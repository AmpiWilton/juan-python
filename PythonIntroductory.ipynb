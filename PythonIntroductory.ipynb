{
  "nbformat": 4,
  "nbformat_minor": 0,
  "metadata": {
    "colab": {
      "provenance": [],
      "authorship_tag": "ABX9TyOOdjRLGnTFtKNhUVFk6LcN",
      "include_colab_link": true
    },
    "kernelspec": {
      "name": "python3",
      "display_name": "Python 3"
    },
    "language_info": {
      "name": "python"
    }
  },
  "cells": [
    {
      "cell_type": "markdown",
      "metadata": {
        "id": "view-in-github",
        "colab_type": "text"
      },
      "source": [
        "<a href=\"https://colab.research.google.com/github/AmpiWilton/juan-python/blob/main/PythonIntroductory.ipynb\" target=\"_parent\"><img src=\"https://colab.research.google.com/assets/colab-badge.svg\" alt=\"Open In Colab\"/></a>"
      ]
    },
    {
      "cell_type": "markdown",
      "source": [
        "# My Apuntes de Python\n",
        "### Fundamnetos de Programacion 202420\n",
        "\n",
        "**Nombre:** Juan Pablo Wilton\n",
        "\n",
        "__Email:__juan.wiltoncha@upb.edu.co\n",
        "\n",
        "*Fecha de creacion: 20 de agosto, 2024\n",
        "\n",
        "Exelsius!"
      ],
      "metadata": {
        "id": "o7AvJjMirlzf"
      }
    },
    {
      "cell_type": "code",
      "execution_count": 11,
      "metadata": {
        "colab": {
          "base_uri": "https://localhost:8080/"
        },
        "id": "VMsQeiD1rVWW",
        "outputId": "d8c93189-4ee6-42fb-c154-f99141a7375d"
      },
      "outputs": [
        {
          "output_type": "stream",
          "name": "stdout",
          "text": [
            "Hola mundo\n",
            "Ahhhh\n",
            "juan pablo\n",
            "Hola,mi nombre es juan Pablo tengo 18 años y soy de Sahagun\n",
            "12.5\n",
            "<class 'int'>\n",
            "<class 'float'>\n",
            "<class 'float'>\n"
          ]
        }
      ],
      "source": [
        "# Mis primeros pasos con Python\n",
        "\n",
        "print(\"Hola mundo\")\n",
        "print(\"Ahhhh\")\n",
        "print(\"juan pablo\")\n",
        "\n",
        "name = \"juan pablo\"\n",
        "age = 18\n",
        "city = \"Sahagun\"\n",
        "\n",
        "print(\"Hola,mi nombre es\",Name, \"tengo\" , age , \"años y soy de\" , city)\n",
        "\n",
        "# Numeros\n",
        "a = 10\n",
        "b = 2.5\n",
        "c = a + b\n",
        "print(c)\n",
        "\n",
        "# Tipos de datos\n",
        "print(type(a))\n",
        "print(type(b))\n",
        "print(type(c))"
      ]
    },
    {
      "cell_type": "code",
      "source": [
        "# Operaciones Matematicas Basicas\n",
        "\n",
        "print(3 + 2)\n",
        "print(3 - 2)\n",
        "print(3 * 2)\n",
        "print(3 / 2)\n",
        "print(3 % 2)\n",
        "print(3 ** 2)\n",
        "print(3 // 2)"
      ],
      "metadata": {
        "colab": {
          "base_uri": "https://localhost:8080/"
        },
        "id": "K7f2Egkhw9Tr",
        "outputId": "b6c595a5-fa9d-4bb6-cf7e-4c400d439f0f"
      },
      "execution_count": 9,
      "outputs": [
        {
          "output_type": "stream",
          "name": "stdout",
          "text": [
            "5\n",
            "1\n",
            "6\n",
            "1.5\n",
            "1\n",
            "9\n",
            "1\n"
          ]
        }
      ]
    },
    {
      "cell_type": "code",
      "source": [
        "# Concatenacion\n",
        "\n",
        "name = \"juan pablo\"\n",
        "Lastname = \"wilton\"\n",
        "fullname = name + ' ' + Lastname\n",
        "print(\"_\" * 20)\n",
        "print(fullname)\n",
        "# print(fullname + ' ')\n",
        "print(\"_\" * 20)"
      ],
      "metadata": {
        "colab": {
          "base_uri": "https://localhost:8080/"
        },
        "id": "X1QRe5L21Mfj",
        "outputId": "127543dc-87f9-4042-c2b5-a7b0589c0cfe"
      },
      "execution_count": 16,
      "outputs": [
        {
          "output_type": "stream",
          "name": "stdout",
          "text": [
            "____________________\n",
            "juan pablo wilton\n",
            "____________________\n"
          ]
        }
      ]
    },
    {
      "cell_type": "code",
      "source": [
        "# Incrementos\n",
        "\n",
        "a = 20\n",
        "print(\"a =\", a)\n",
        "b = 10\n",
        "a += b\n",
        "print(\"a =\", a)\n",
        "a -= b\n",
        "print(\"a =\", a)\n",
        "a *= b\n",
        "print(\"a =\", a)\n",
        "a /= b\n",
        "print(\"a =\", a)"
      ],
      "metadata": {
        "colab": {
          "base_uri": "https://localhost:8080/"
        },
        "id": "xlJQ_FbJ22C3",
        "outputId": "cef854f9-b4f9-4be9-acb0-ad436a48f09a"
      },
      "execution_count": 18,
      "outputs": [
        {
          "output_type": "stream",
          "name": "stdout",
          "text": [
            "a = 20\n",
            "a = 30\n",
            "a = 20\n",
            "a = 200\n",
            "a = 20.0\n"
          ]
        }
      ]
    },
    {
      "cell_type": "code",
      "source": [
        "# Multi-line\n",
        "\n",
        "song = \"\"\"\n",
        "Puedo ser, de que no te acordaras mañana\n",
        "No sabrán lo que paso en tu cama\n",
        "De mi boca nunca va a salir\n",
        "Que yo sé, que aunque le eras fiel a solo un hombre\n",
        "Esa noche gritabas mi nombre\n",
        "Las paredes nada van a decir\n",
        "\"\"\"\n",
        "print(song)\n"
      ],
      "metadata": {
        "colab": {
          "base_uri": "https://localhost:8080/"
        },
        "id": "H0UwtVAt4X0S",
        "outputId": "515bb6f0-692b-4b36-ded9-d83b3b536b65"
      },
      "execution_count": 22,
      "outputs": [
        {
          "output_type": "stream",
          "name": "stdout",
          "text": [
            "\n",
            "Puedo ser, de que no te acordaras mañana\n",
            "No sabrán lo que paso en tu cama\n",
            "De mi boca nunca va a salir\n",
            "Que yo sé, que aunque le eras fiel a solo un hombre\n",
            "Esa noche gritabas mi nombre\n",
            "Las paredes nada van a decir\n",
            "\n"
          ]
        }
      ]
    },
    {
      "cell_type": "code",
      "source": [],
      "metadata": {
        "id": "6E4Akx_B5QSb"
      },
      "execution_count": null,
      "outputs": []
    }
  ]
}